{
 "cells": [
  {
   "cell_type": "code",
   "execution_count": null,
   "id": "60844358",
   "metadata": {},
   "outputs": [],
   "source": [
    "# first install these\n",
    "#pip install Office365-REST-Python-Client\n",
    "#pip install sharepoint\n",
    "import getpass\n",
    "from office365.sharepoint.client_context import ClientContext\n",
    "from office365.runtime.auth.authentication_context import AuthenticationContext\n",
    "import io\n",
    "import pandas as pd\n",
    "\n",
    "def automation( SHAREPOINT_USER=None, SHAREPOINT_PASSWORD=None, URL=None, FILE_URL=None):\n",
    "    \"\"\"\n",
    "    Automates opening a file from SharePoint in python.\n",
    "\n",
    "    comments:\n",
    "        # for csv file, replace this with line 43: pd.read_csv(file_buffer)\n",
    "        # example of URL = 'https://wsponlinenam.sharepoint.com/sites/US-TexasEnvWater'\n",
    "        # SHAREPOINT_USER = example: 'yourID@wsp.com'\n",
    "        # SHAREPOINT_PASSWORD = enter your actual password\n",
    "        # example of FILE_URL (directory) = '/sites/US-TexasEnvWater/Shared Documents/General/New_Modelers/Resource Allocation.xlsx'\n",
    "        # automation(URL=URL, SHAREPOINT_USER=SHAREPOINT_USER, SHAREPOINT_PASSWORD=SHAREPOINT_PASSWORD, FILE_URL=FILE_URL)\n",
    "\n",
    "        # Example usage without providing credentials as arguments:\n",
    "    \"\"\"\n",
    "\n",
    "    if not SHAREPOINT_USER:\n",
    "        SHAREPOINT_USER = getpass.getpass(\"Enter your username (your wsp email): \")\n",
    "    if not SHAREPOINT_PASSWORD:\n",
    "        SHAREPOINT_PASSWORD = getpass.getpass(\"Enter your password: \")\n",
    "    if not URL:\n",
    "        URL = getpass.getpass(\"Enter your URL: \")\n",
    "    if not FILE_URL:\n",
    "        FILE_URL = getpass.getpass(\"Enter your file directory: \")\n",
    "\n",
    "    # Connect to SharePoint\n",
    "    auth = AuthenticationContext(URL)\n",
    "    if auth.acquire_token_for_user(SHAREPOINT_USER, SHAREPOINT_PASSWORD):\n",
    "        ctx = ClientContext(URL, auth)\n",
    "\n",
    "        file = ctx.web.get_file_by_server_relative_url(FILE_URL)\n",
    "        file_buffer = io.BytesIO()\n",
    "        file.download(file_buffer).execute_query()\n",
    "        file_buffer.seek(0)\n",
    "        df = pd.read_excel(file_buffer, engine='openpyxl')\n",
    "        return df\n",
    "        print(df)\n",
    "\n",
    "        # Delete the username & password from memory\n",
    "        del SHAREPOINT_PASSWORD\n",
    "        del SHAREPOINT_USER        \n",
    "    else:\n",
    "        print(auth.get_last_error())\n",
    "\n",
    "\n",
    "data=automation()\n",
    "print(data)"
   ]
  }
 ],
 "metadata": {
  "kernelspec": {
   "display_name": "Python 3 (ipykernel)",
   "language": "python",
   "name": "python3"
  },
  "language_info": {
   "codemirror_mode": {
    "name": "ipython",
    "version": 3
   },
   "file_extension": ".py",
   "mimetype": "text/x-python",
   "name": "python",
   "nbconvert_exporter": "python",
   "pygments_lexer": "ipython3",
   "version": "3.9.18"
  }
 },
 "nbformat": 4,
 "nbformat_minor": 5
}
